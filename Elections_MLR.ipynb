{
  "cells": [
    {
      "cell_type": "code",
      "execution_count": 18,
      "metadata": {
        "id": "5FoaPe67bj2L"
      },
      "outputs": [],
      "source": [
        "import pandas as pd\n",
        "import numpy as np\n",
        "import statsmodels.api as sm\n",
        "from sklearn.linear_model import LogisticRegression\n",
        "from sklearn.preprocessing import StandardScaler\n",
        "from sklearn.metrics import classification_report, confusion_matrix\n",
        "import scipy.stats as stats\n",
        "from scipy.stats import chi2\n",
        "import warnings\n",
        "warnings.filterwarnings('ignore')"
      ]
    },
    {
      "cell_type": "code",
      "execution_count": 19,
      "metadata": {
        "id": "YRlnG5Q-lmHc"
      },
      "outputs": [],
      "source": [
        "from sklearn.metrics import accuracy_score"
      ]
    },
    {
      "cell_type": "code",
      "execution_count": 20,
      "metadata": {
        "colab": {
          "base_uri": "https://localhost:8080/",
          "height": 206
        },
        "id": "w4BvbUzXbkiE",
        "outputId": "b98cfd1a-b866-4660-b690-5ccc39b82341"
      },
      "outputs": [
        {
          "output_type": "execute_result",
          "data": {
            "text/plain": [
              "   age  genderid  econ.conlib  rel.conlib  vote2016  conscientious\n",
              "0   43         1            4           5         2             20\n",
              "1   36         1            2           2         2             23\n",
              "2   36         0            2           2         2             16\n",
              "3   39         1            2           2         3             23\n",
              "4   47         1            2           2         2             27"
            ],
            "text/html": [
              "\n",
              "  <div id=\"df-b4f69a01-adec-4733-b87f-2f75d55ad2b8\" class=\"colab-df-container\">\n",
              "    <div>\n",
              "<style scoped>\n",
              "    .dataframe tbody tr th:only-of-type {\n",
              "        vertical-align: middle;\n",
              "    }\n",
              "\n",
              "    .dataframe tbody tr th {\n",
              "        vertical-align: top;\n",
              "    }\n",
              "\n",
              "    .dataframe thead th {\n",
              "        text-align: right;\n",
              "    }\n",
              "</style>\n",
              "<table border=\"1\" class=\"dataframe\">\n",
              "  <thead>\n",
              "    <tr style=\"text-align: right;\">\n",
              "      <th></th>\n",
              "      <th>age</th>\n",
              "      <th>genderid</th>\n",
              "      <th>econ.conlib</th>\n",
              "      <th>rel.conlib</th>\n",
              "      <th>vote2016</th>\n",
              "      <th>conscientious</th>\n",
              "    </tr>\n",
              "  </thead>\n",
              "  <tbody>\n",
              "    <tr>\n",
              "      <th>0</th>\n",
              "      <td>43</td>\n",
              "      <td>1</td>\n",
              "      <td>4</td>\n",
              "      <td>5</td>\n",
              "      <td>2</td>\n",
              "      <td>20</td>\n",
              "    </tr>\n",
              "    <tr>\n",
              "      <th>1</th>\n",
              "      <td>36</td>\n",
              "      <td>1</td>\n",
              "      <td>2</td>\n",
              "      <td>2</td>\n",
              "      <td>2</td>\n",
              "      <td>23</td>\n",
              "    </tr>\n",
              "    <tr>\n",
              "      <th>2</th>\n",
              "      <td>36</td>\n",
              "      <td>0</td>\n",
              "      <td>2</td>\n",
              "      <td>2</td>\n",
              "      <td>2</td>\n",
              "      <td>16</td>\n",
              "    </tr>\n",
              "    <tr>\n",
              "      <th>3</th>\n",
              "      <td>39</td>\n",
              "      <td>1</td>\n",
              "      <td>2</td>\n",
              "      <td>2</td>\n",
              "      <td>3</td>\n",
              "      <td>23</td>\n",
              "    </tr>\n",
              "    <tr>\n",
              "      <th>4</th>\n",
              "      <td>47</td>\n",
              "      <td>1</td>\n",
              "      <td>2</td>\n",
              "      <td>2</td>\n",
              "      <td>2</td>\n",
              "      <td>27</td>\n",
              "    </tr>\n",
              "  </tbody>\n",
              "</table>\n",
              "</div>\n",
              "    <div class=\"colab-df-buttons\">\n",
              "\n",
              "  <div class=\"colab-df-container\">\n",
              "    <button class=\"colab-df-convert\" onclick=\"convertToInteractive('df-b4f69a01-adec-4733-b87f-2f75d55ad2b8')\"\n",
              "            title=\"Convert this dataframe to an interactive table.\"\n",
              "            style=\"display:none;\">\n",
              "\n",
              "  <svg xmlns=\"http://www.w3.org/2000/svg\" height=\"24px\" viewBox=\"0 -960 960 960\">\n",
              "    <path d=\"M120-120v-720h720v720H120Zm60-500h600v-160H180v160Zm220 220h160v-160H400v160Zm0 220h160v-160H400v160ZM180-400h160v-160H180v160Zm440 0h160v-160H620v160ZM180-180h160v-160H180v160Zm440 0h160v-160H620v160Z\"/>\n",
              "  </svg>\n",
              "    </button>\n",
              "\n",
              "  <style>\n",
              "    .colab-df-container {\n",
              "      display:flex;\n",
              "      gap: 12px;\n",
              "    }\n",
              "\n",
              "    .colab-df-convert {\n",
              "      background-color: #E8F0FE;\n",
              "      border: none;\n",
              "      border-radius: 50%;\n",
              "      cursor: pointer;\n",
              "      display: none;\n",
              "      fill: #1967D2;\n",
              "      height: 32px;\n",
              "      padding: 0 0 0 0;\n",
              "      width: 32px;\n",
              "    }\n",
              "\n",
              "    .colab-df-convert:hover {\n",
              "      background-color: #E2EBFA;\n",
              "      box-shadow: 0px 1px 2px rgba(60, 64, 67, 0.3), 0px 1px 3px 1px rgba(60, 64, 67, 0.15);\n",
              "      fill: #174EA6;\n",
              "    }\n",
              "\n",
              "    .colab-df-buttons div {\n",
              "      margin-bottom: 4px;\n",
              "    }\n",
              "\n",
              "    [theme=dark] .colab-df-convert {\n",
              "      background-color: #3B4455;\n",
              "      fill: #D2E3FC;\n",
              "    }\n",
              "\n",
              "    [theme=dark] .colab-df-convert:hover {\n",
              "      background-color: #434B5C;\n",
              "      box-shadow: 0px 1px 3px 1px rgba(0, 0, 0, 0.15);\n",
              "      filter: drop-shadow(0px 1px 2px rgba(0, 0, 0, 0.3));\n",
              "      fill: #FFFFFF;\n",
              "    }\n",
              "  </style>\n",
              "\n",
              "    <script>\n",
              "      const buttonEl =\n",
              "        document.querySelector('#df-b4f69a01-adec-4733-b87f-2f75d55ad2b8 button.colab-df-convert');\n",
              "      buttonEl.style.display =\n",
              "        google.colab.kernel.accessAllowed ? 'block' : 'none';\n",
              "\n",
              "      async function convertToInteractive(key) {\n",
              "        const element = document.querySelector('#df-b4f69a01-adec-4733-b87f-2f75d55ad2b8');\n",
              "        const dataTable =\n",
              "          await google.colab.kernel.invokeFunction('convertToInteractive',\n",
              "                                                    [key], {});\n",
              "        if (!dataTable) return;\n",
              "\n",
              "        const docLinkHtml = 'Like what you see? Visit the ' +\n",
              "          '<a target=\"_blank\" href=https://colab.research.google.com/notebooks/data_table.ipynb>data table notebook</a>'\n",
              "          + ' to learn more about interactive tables.';\n",
              "        element.innerHTML = '';\n",
              "        dataTable['output_type'] = 'display_data';\n",
              "        await google.colab.output.renderOutput(dataTable, element);\n",
              "        const docLink = document.createElement('div');\n",
              "        docLink.innerHTML = docLinkHtml;\n",
              "        element.appendChild(docLink);\n",
              "      }\n",
              "    </script>\n",
              "  </div>\n",
              "\n",
              "\n",
              "    <div id=\"df-62206404-7312-43b6-a83e-7f8ca6c0ca91\">\n",
              "      <button class=\"colab-df-quickchart\" onclick=\"quickchart('df-62206404-7312-43b6-a83e-7f8ca6c0ca91')\"\n",
              "                title=\"Suggest charts\"\n",
              "                style=\"display:none;\">\n",
              "\n",
              "<svg xmlns=\"http://www.w3.org/2000/svg\" height=\"24px\"viewBox=\"0 0 24 24\"\n",
              "     width=\"24px\">\n",
              "    <g>\n",
              "        <path d=\"M19 3H5c-1.1 0-2 .9-2 2v14c0 1.1.9 2 2 2h14c1.1 0 2-.9 2-2V5c0-1.1-.9-2-2-2zM9 17H7v-7h2v7zm4 0h-2V7h2v10zm4 0h-2v-4h2v4z\"/>\n",
              "    </g>\n",
              "</svg>\n",
              "      </button>\n",
              "\n",
              "<style>\n",
              "  .colab-df-quickchart {\n",
              "      --bg-color: #E8F0FE;\n",
              "      --fill-color: #1967D2;\n",
              "      --hover-bg-color: #E2EBFA;\n",
              "      --hover-fill-color: #174EA6;\n",
              "      --disabled-fill-color: #AAA;\n",
              "      --disabled-bg-color: #DDD;\n",
              "  }\n",
              "\n",
              "  [theme=dark] .colab-df-quickchart {\n",
              "      --bg-color: #3B4455;\n",
              "      --fill-color: #D2E3FC;\n",
              "      --hover-bg-color: #434B5C;\n",
              "      --hover-fill-color: #FFFFFF;\n",
              "      --disabled-bg-color: #3B4455;\n",
              "      --disabled-fill-color: #666;\n",
              "  }\n",
              "\n",
              "  .colab-df-quickchart {\n",
              "    background-color: var(--bg-color);\n",
              "    border: none;\n",
              "    border-radius: 50%;\n",
              "    cursor: pointer;\n",
              "    display: none;\n",
              "    fill: var(--fill-color);\n",
              "    height: 32px;\n",
              "    padding: 0;\n",
              "    width: 32px;\n",
              "  }\n",
              "\n",
              "  .colab-df-quickchart:hover {\n",
              "    background-color: var(--hover-bg-color);\n",
              "    box-shadow: 0 1px 2px rgba(60, 64, 67, 0.3), 0 1px 3px 1px rgba(60, 64, 67, 0.15);\n",
              "    fill: var(--button-hover-fill-color);\n",
              "  }\n",
              "\n",
              "  .colab-df-quickchart-complete:disabled,\n",
              "  .colab-df-quickchart-complete:disabled:hover {\n",
              "    background-color: var(--disabled-bg-color);\n",
              "    fill: var(--disabled-fill-color);\n",
              "    box-shadow: none;\n",
              "  }\n",
              "\n",
              "  .colab-df-spinner {\n",
              "    border: 2px solid var(--fill-color);\n",
              "    border-color: transparent;\n",
              "    border-bottom-color: var(--fill-color);\n",
              "    animation:\n",
              "      spin 1s steps(1) infinite;\n",
              "  }\n",
              "\n",
              "  @keyframes spin {\n",
              "    0% {\n",
              "      border-color: transparent;\n",
              "      border-bottom-color: var(--fill-color);\n",
              "      border-left-color: var(--fill-color);\n",
              "    }\n",
              "    20% {\n",
              "      border-color: transparent;\n",
              "      border-left-color: var(--fill-color);\n",
              "      border-top-color: var(--fill-color);\n",
              "    }\n",
              "    30% {\n",
              "      border-color: transparent;\n",
              "      border-left-color: var(--fill-color);\n",
              "      border-top-color: var(--fill-color);\n",
              "      border-right-color: var(--fill-color);\n",
              "    }\n",
              "    40% {\n",
              "      border-color: transparent;\n",
              "      border-right-color: var(--fill-color);\n",
              "      border-top-color: var(--fill-color);\n",
              "    }\n",
              "    60% {\n",
              "      border-color: transparent;\n",
              "      border-right-color: var(--fill-color);\n",
              "    }\n",
              "    80% {\n",
              "      border-color: transparent;\n",
              "      border-right-color: var(--fill-color);\n",
              "      border-bottom-color: var(--fill-color);\n",
              "    }\n",
              "    90% {\n",
              "      border-color: transparent;\n",
              "      border-bottom-color: var(--fill-color);\n",
              "    }\n",
              "  }\n",
              "</style>\n",
              "\n",
              "      <script>\n",
              "        async function quickchart(key) {\n",
              "          const quickchartButtonEl =\n",
              "            document.querySelector('#' + key + ' button');\n",
              "          quickchartButtonEl.disabled = true;  // To prevent multiple clicks.\n",
              "          quickchartButtonEl.classList.add('colab-df-spinner');\n",
              "          try {\n",
              "            const charts = await google.colab.kernel.invokeFunction(\n",
              "                'suggestCharts', [key], {});\n",
              "          } catch (error) {\n",
              "            console.error('Error during call to suggestCharts:', error);\n",
              "          }\n",
              "          quickchartButtonEl.classList.remove('colab-df-spinner');\n",
              "          quickchartButtonEl.classList.add('colab-df-quickchart-complete');\n",
              "        }\n",
              "        (() => {\n",
              "          let quickchartButtonEl =\n",
              "            document.querySelector('#df-62206404-7312-43b6-a83e-7f8ca6c0ca91 button');\n",
              "          quickchartButtonEl.style.display =\n",
              "            google.colab.kernel.accessAllowed ? 'block' : 'none';\n",
              "        })();\n",
              "      </script>\n",
              "    </div>\n",
              "\n",
              "    </div>\n",
              "  </div>\n"
            ],
            "application/vnd.google.colaboratory.intrinsic+json": {
              "type": "dataframe",
              "variable_name": "data",
              "summary": "{\n  \"name\": \"data\",\n  \"rows\": 120,\n  \"fields\": [\n    {\n      \"column\": \"age\",\n      \"properties\": {\n        \"dtype\": \"number\",\n        \"std\": 8,\n        \"min\": 18,\n        \"max\": 53,\n        \"num_unique_values\": 28,\n        \"samples\": [\n          22,\n          25,\n          51\n        ],\n        \"semantic_type\": \"\",\n        \"description\": \"\"\n      }\n    },\n    {\n      \"column\": \"genderid\",\n      \"properties\": {\n        \"dtype\": \"number\",\n        \"std\": 0,\n        \"min\": 0,\n        \"max\": 1,\n        \"num_unique_values\": 2,\n        \"samples\": [\n          0,\n          1\n        ],\n        \"semantic_type\": \"\",\n        \"description\": \"\"\n      }\n    },\n    {\n      \"column\": \"econ.conlib\",\n      \"properties\": {\n        \"dtype\": \"number\",\n        \"std\": 1,\n        \"min\": 1,\n        \"max\": 7,\n        \"num_unique_values\": 7,\n        \"samples\": [\n          4,\n          2\n        ],\n        \"semantic_type\": \"\",\n        \"description\": \"\"\n      }\n    },\n    {\n      \"column\": \"rel.conlib\",\n      \"properties\": {\n        \"dtype\": \"number\",\n        \"std\": 1,\n        \"min\": 1,\n        \"max\": 7,\n        \"num_unique_values\": 7,\n        \"samples\": [\n          5,\n          2\n        ],\n        \"semantic_type\": \"\",\n        \"description\": \"\"\n      }\n    },\n    {\n      \"column\": \"vote2016\",\n      \"properties\": {\n        \"dtype\": \"number\",\n        \"std\": 1,\n        \"min\": 1,\n        \"max\": 4,\n        \"num_unique_values\": 4,\n        \"samples\": [\n          3,\n          1\n        ],\n        \"semantic_type\": \"\",\n        \"description\": \"\"\n      }\n    },\n    {\n      \"column\": \"conscientious\",\n      \"properties\": {\n        \"dtype\": \"number\",\n        \"std\": 4,\n        \"min\": 8,\n        \"max\": 30,\n        \"num_unique_values\": 18,\n        \"samples\": [\n          20,\n          23\n        ],\n        \"semantic_type\": \"\",\n        \"description\": \"\"\n      }\n    }\n  ]\n}"
            }
          },
          "metadata": {},
          "execution_count": 20
        }
      ],
      "source": [
        "data = pd.read_csv('elections.csv',sep=';')\n",
        "data.head()"
      ]
    },
    {
      "cell_type": "code",
      "execution_count": 21,
      "metadata": {
        "id": "KAGtQAZ8bu0j"
      },
      "outputs": [],
      "source": [
        "# define dependent and independent variable\n",
        "X = data.drop('vote2016',axis=1)\n",
        "X = sm.add_constant(X)\n",
        "y = data['vote2016']\n",
        "# be sure that y is categorical\n",
        "y = y.astype('category')\n"
      ]
    },
    {
      "cell_type": "code",
      "execution_count": 22,
      "metadata": {
        "id": "ehybH0gqc-49"
      },
      "outputs": [],
      "source": [
        "# Null Model: only with intercept\n",
        "null_model = sm.MNLogit(y, X['const']).fit(disp=0)\n",
        "\n",
        "# Full Model: all the indepentend variables\n",
        "full_model = sm.MNLogit(y, X).fit(disp=0)"
      ]
    },
    {
      "cell_type": "code",
      "execution_count": 23,
      "metadata": {
        "colab": {
          "base_uri": "https://localhost:8080/"
        },
        "id": "K6KO77MKdWcN",
        "outputId": "5a7870f7-d752-4e9d-b739-71e8c96016b1"
      },
      "outputs": [
        {
          "output_type": "stream",
          "name": "stdout",
          "text": [
            "McFadden R-squared: 0.2334\n"
          ]
        }
      ],
      "source": [
        "# McFadden R-squared\n",
        "\n",
        "LL_full = full_model.llf\n",
        "LL_null = null_model.llf\n",
        "\n",
        "mc_fadden_r2 = 1 - (LL_full / LL_null)\n",
        "\n",
        "print(f\"McFadden R-squared: {mc_fadden_r2:.4f}\")"
      ]
    },
    {
      "cell_type": "code",
      "execution_count": 24,
      "metadata": {
        "colab": {
          "base_uri": "https://localhost:8080/"
        },
        "id": "Bl1hgiBhdiDL",
        "outputId": "a554cc9a-ae2e-406f-f434-35007eb19979"
      },
      "outputs": [
        {
          "output_type": "stream",
          "name": "stdout",
          "text": [
            "McFadden R-squared: 0.2334\n",
            "Likelihood Ratio Test Statistic (G): 76.2700\n",
            "Degrees of Freedom: 15\n",
            "p-value: 0.0000\n",
            "The LRT has statistical significance. Reject the H0, so there is at least one independent variable that has statistical significance.\n"
          ]
        }
      ],
      "source": [
        "# Calculate the Likelihood Ratio Test\n",
        "G = -2 * (LL_null - LL_full)\n",
        "\n",
        "df_null = (len(y.cat.categories) - 1) * 1\n",
        "df_full = (len(y.cat.categories) - 1) * len(X.columns)\n",
        "df_lrt = df_full - df_null\n",
        "\n",
        "p_value = chi2.sf(G, df_lrt)\n",
        "\n",
        "print(f\"McFadden R-squared: {mc_fadden_r2:.4f}\")\n",
        "print(f\"Likelihood Ratio Test Statistic (G): {G:.4f}\")\n",
        "print(f\"Degrees of Freedom: {df_lrt}\")\n",
        "print(f\"p-value: {p_value:.4f}\")\n",
        "\n",
        "alpha = 0.05\n",
        "if p_value < alpha:\n",
        "    print(\"The LRT has statistical significance. Reject the H0, so there is at least one independent variable that has statistical significance.\")\n",
        "else:\n",
        "    print(\"The LRT is not statistical significant. We can't reject H0.\")"
      ]
    },
    {
      "cell_type": "code",
      "execution_count": 25,
      "metadata": {
        "id": "wl0pBfhkfvt-"
      },
      "outputs": [],
      "source": [
        "#run the full model\n",
        "full_model = sm.MNLogit(y, X).fit(disp=0)"
      ]
    },
    {
      "cell_type": "code",
      "execution_count": 26,
      "metadata": {
        "colab": {
          "base_uri": "https://localhost:8080/"
        },
        "id": "DFzdhA0if0Ql",
        "outputId": "93fb2746-db55-4eb7-d78c-3e443d47f0b3"
      },
      "outputs": [
        {
          "output_type": "stream",
          "name": "stdout",
          "text": [
            "                          MNLogit Regression Results                          \n",
            "==============================================================================\n",
            "Dep. Variable:               vote2016   No. Observations:                  120\n",
            "Model:                        MNLogit   Df Residuals:                      102\n",
            "Method:                           MLE   Df Model:                           15\n",
            "Date:                Tue, 05 Aug 2025   Pseudo R-squ.:                  0.2334\n",
            "Time:                        09:43:12   Log-Likelihood:                -125.24\n",
            "converged:                       True   LL-Null:                       -163.38\n",
            "Covariance Type:            nonrobust   LLR p-value:                 3.336e-10\n",
            "=================================================================================\n",
            "   vote2016=2       coef    std err          z      P>|z|      [0.025      0.975]\n",
            "---------------------------------------------------------------------------------\n",
            "const             8.5131      2.699      3.154      0.002       3.222      13.804\n",
            "age              -0.0363      0.042     -0.858      0.391      -0.119       0.047\n",
            "genderid          0.3205      0.713      0.450      0.653      -1.077       1.718\n",
            "econ.conlib      -1.5505      0.326     -4.750      0.000      -2.190      -0.911\n",
            "rel.conlib       -0.3576      0.220     -1.628      0.104      -0.788       0.073\n",
            "conscientious    -0.0331      0.078     -0.427      0.669      -0.185       0.119\n",
            "---------------------------------------------------------------------------------\n",
            "   vote2016=3       coef    std err          z      P>|z|      [0.025      0.975]\n",
            "---------------------------------------------------------------------------------\n",
            "const             7.5157      2.544      2.954      0.003       2.529      12.502\n",
            "age              -0.0371      0.042     -0.894      0.371      -0.119       0.044\n",
            "genderid          0.1092      0.701      0.156      0.876      -1.264       1.483\n",
            "econ.conlib      -0.7980      0.294     -2.718      0.007      -1.374      -0.222\n",
            "rel.conlib       -0.1575      0.217     -0.726      0.468      -0.583       0.268\n",
            "conscientious    -0.1345      0.072     -1.881      0.060      -0.275       0.006\n",
            "---------------------------------------------------------------------------------\n",
            "   vote2016=4       coef    std err          z      P>|z|      [0.025      0.975]\n",
            "---------------------------------------------------------------------------------\n",
            "const             8.4132      2.357      3.569      0.000       3.793      13.033\n",
            "age              -0.1040      0.043     -2.424      0.015      -0.188      -0.020\n",
            "genderid         -0.1824      0.599     -0.304      0.761      -1.357       0.992\n",
            "econ.conlib      -0.4171      0.256     -1.627      0.104      -0.920       0.085\n",
            "rel.conlib       -0.3841      0.197     -1.951      0.051      -0.770       0.002\n",
            "conscientious    -0.0872      0.062     -1.395      0.163      -0.210       0.035\n",
            "=================================================================================\n"
          ]
        }
      ],
      "source": [
        "print(full_model.summary())"
      ]
    },
    {
      "cell_type": "code",
      "execution_count": 27,
      "metadata": {
        "id": "JuGYUivihszK"
      },
      "outputs": [],
      "source": [
        "# keep only the variables that is statistical significant to at least one comparison and re-run the analysis\n",
        "X_reduced = data[['age', 'econ.conlib','rel.conlib']]\n",
        "X_reduced = sm.add_constant(X_reduced)\n",
        "y = data['vote2016'].astype('category')"
      ]
    },
    {
      "cell_type": "code",
      "execution_count": 28,
      "metadata": {
        "colab": {
          "base_uri": "https://localhost:8080/"
        },
        "id": "HVvX9ityiUmB",
        "outputId": "114e4af3-3a56-4592-804d-9399af27959e"
      },
      "outputs": [
        {
          "output_type": "stream",
          "name": "stdout",
          "text": [
            "------------------------------------------------------------------\n",
            "Results of the reduced model:\n",
            "------------------------------------------------------------------\n",
            "                          MNLogit Regression Results                          \n",
            "==============================================================================\n",
            "Dep. Variable:               vote2016   No. Observations:                  120\n",
            "Model:                        MNLogit   Df Residuals:                      108\n",
            "Method:                           MLE   Df Model:                            9\n",
            "Date:                Tue, 05 Aug 2025   Pseudo R-squ.:                  0.2162\n",
            "Time:                        09:43:12   Log-Likelihood:                -128.06\n",
            "converged:                       True   LL-Null:                       -163.38\n",
            "Covariance Type:            nonrobust   LLR p-value:                 1.138e-11\n",
            "===============================================================================\n",
            " vote2016=2       coef    std err          z      P>|z|      [0.025      0.975]\n",
            "-------------------------------------------------------------------------------\n",
            "const           7.9484      1.819      4.370      0.000       4.384      11.513\n",
            "age            -0.0433      0.042     -1.035      0.301      -0.125       0.039\n",
            "econ.conlib    -1.5346      0.319     -4.811      0.000      -2.160      -0.909\n",
            "rel.conlib     -0.3257      0.210     -1.552      0.121      -0.737       0.086\n",
            "-------------------------------------------------------------------------------\n",
            " vote2016=3       coef    std err          z      P>|z|      [0.025      0.975]\n",
            "-------------------------------------------------------------------------------\n",
            "const           4.2559      1.771      2.402      0.016       0.784       7.728\n",
            "age            -0.0374      0.041     -0.921      0.357      -0.117       0.042\n",
            "econ.conlib    -0.8003      0.280     -2.854      0.004      -1.350      -0.251\n",
            "rel.conlib     -0.0836      0.204     -0.410      0.682      -0.484       0.317\n",
            "-------------------------------------------------------------------------------\n",
            " vote2016=4       coef    std err          z      P>|z|      [0.025      0.975]\n",
            "-------------------------------------------------------------------------------\n",
            "const           6.1807      1.712      3.611      0.000       2.826       9.535\n",
            "age            -0.1057      0.042     -2.505      0.012      -0.188      -0.023\n",
            "econ.conlib    -0.4465      0.253     -1.762      0.078      -0.943       0.050\n",
            "rel.conlib     -0.3201      0.186     -1.717      0.086      -0.685       0.045\n",
            "===============================================================================\n"
          ]
        }
      ],
      "source": [
        "reduced_model = sm.MNLogit(y, X_reduced).fit(disp=0)\n",
        "\n",
        "# Εμφάνιση της σύνοψης του απλοποιημένου μοντέλου\n",
        "print(\"------------------------------------------------------------------\")\n",
        "print(\"Results of the reduced model:\")\n",
        "print(\"------------------------------------------------------------------\")\n",
        "print(reduced_model.summary())"
      ]
    },
    {
      "cell_type": "code",
      "source": [
        "from sklearn.model_selection import train_test_split\n",
        "\n",
        "X_train, X_test, y_train, y_test = train_test_split(X_reduced, y, test_size=0.2, random_state=42)\n"
      ],
      "metadata": {
        "id": "6OcWioCMmERj"
      },
      "execution_count": 33,
      "outputs": []
    },
    {
      "cell_type": "code",
      "source": [
        "from sklearn.linear_model import LogisticRegression\n",
        "\n",
        "model = LogisticRegression(multi_class='multinomial', solver='lbfgs', max_iter=1000)\n",
        "model.fit(X_train, y_train)\n",
        "y_pred = model.predict(X_test)\n",
        "\n"
      ],
      "metadata": {
        "id": "_sQ0A7NNmIcV"
      },
      "execution_count": 34,
      "outputs": []
    },
    {
      "cell_type": "code",
      "execution_count": 35,
      "metadata": {
        "colab": {
          "base_uri": "https://localhost:8080/"
        },
        "id": "PwMOOzUtlmHg",
        "outputId": "392e7a7b-a6fc-4414-c829-8ac29499b045"
      },
      "outputs": [
        {
          "output_type": "stream",
          "name": "stdout",
          "text": [
            "Μodel Accuracy : 0.5000\n"
          ]
        }
      ],
      "source": [
        "from sklearn.metrics import accuracy_score\n",
        "\n",
        "accuracy = accuracy_score(y_test, y_pred)\n",
        "print(f\"Μodel Accuracy : {accuracy:.4f}\")\n"
      ]
    },
    {
      "cell_type": "code",
      "source": [
        "from sklearn.metrics import confusion_matrix, classification_report\n",
        "import matplotlib.pyplot as plt\n",
        "import seaborn as sns"
      ],
      "metadata": {
        "id": "Nxzsu739oYCC"
      },
      "execution_count": 36,
      "outputs": []
    },
    {
      "cell_type": "code",
      "source": [
        "# Confusion Matrix\n",
        "cm = confusion_matrix(y_test, y_pred)\n",
        "plt.figure(figsize=(8,6))\n",
        "sns.heatmap(cm, annot=True, fmt='d', cmap='Blues')\n",
        "plt.title(\"Confusion Matrix\")\n",
        "plt.xlabel(\"Predicted Label\")\n",
        "plt.ylabel(\"True Label\")\n",
        "plt.show()\n",
        "\n",
        "# Classification Report (includes precision, recall, f1-score)\n",
        "report = classification_report(y_test, y_pred)\n",
        "print(\"Classification Report:\")\n",
        "print(report)\n"
      ],
      "metadata": {
        "colab": {
          "base_uri": "https://localhost:8080/",
          "height": 772
        },
        "id": "Vcl1_kwLoTpx",
        "outputId": "5f55f6e7-1efc-45ca-c03a-17a7b463e4a7"
      },
      "execution_count": 37,
      "outputs": [
        {
          "output_type": "display_data",
          "data": {
            "text/plain": [
              "<Figure size 800x600 with 2 Axes>"
            ],
            "image/png": "[encoded data removed]"
          },
          "metadata": {}
        },
        {
          "output_type": "stream",
          "name": "stdout",
          "text": [
            "Classification Report:\n",
            "              precision    recall  f1-score   support\n",
            "\n",
            "           1       0.14      0.50      0.22         2\n",
            "           2       0.75      0.75      0.75         8\n",
            "           3       0.00      0.00      0.00         6\n",
            "           4       0.56      0.62      0.59         8\n",
            "\n",
            "    accuracy                           0.50        24\n",
            "   macro avg       0.36      0.47      0.39        24\n",
            "weighted avg       0.45      0.50      0.46        24\n",
            "\n"
          ]
        }
      ]
    }
  ],
  "metadata": {
    "colab": {
      "provenance": []
    },
    "kernelspec": {
      "display_name": "Python 3",
      "name": "python3"
    },
    "language_info": {
      "name": "python"
    }
  },
  "nbformat": 4,
  "nbformat_minor": 0
}